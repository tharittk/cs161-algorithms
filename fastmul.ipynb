{
 "cells": [
  {
   "cell_type": "code",
   "execution_count": null,
   "metadata": {},
   "outputs": [],
   "source": [
    "def fastmul (num1, num2):\n",
    "    \n",
    "    # base-case\n",
    "    n  = len(num1)\n",
    "    if n == 1:\n",
    "        return (int(num1) * int(num2))    \n",
    "    else:\n",
    "        num1Right = num1[n//2:]\n",
    "        num1Left = num1[:n//2]\n",
    "\n",
    "        num2Right = num2[n//2:]\n",
    "        num2Left =  num2[:n//2]\n",
    "\n",
    "        firstTerm = fastmul(num1Left, num2Left)\n",
    "        thridTerm = fastmul(num1Right, num2Right)\n",
    "\n",
    "        secondTerm = (int(num1Left) + int(num1Right)) * ( int(num2Left) + int(num2Right)) \\\n",
    "                        - int(firstTerm) - int(thridTerm)\n",
    "    \n",
    "        return (10**n) * int(firstTerm) + (10**(n//2)) * int(secondTerm) + int(thridTerm)\n",
    "\n",
    "a = '3141592653589793238462643383279502884197169399375105820974944592'\n",
    "\n",
    "b = '2718281828459045235360287471352662497757247093699959574966967627'\n",
    "#print(\"test: \", fastmul('1234', '5678'))\n",
    "\n",
    "print(\"Result: \", fastmul(a, b))"
   ]
  }
 ],
 "metadata": {
  "language_info": {
   "name": "python"
  }
 },
 "nbformat": 4,
 "nbformat_minor": 2
}
